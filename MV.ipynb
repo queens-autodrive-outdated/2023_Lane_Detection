{
 "cells": [
  {
   "cell_type": "code",
   "execution_count": 1,
   "id": "73804bcc",
   "metadata": {},
   "outputs": [],
   "source": [
    "import numpy as np\n",
    "import matplotlib.pyplot as plt\n",
    "from glob import glob as g"
   ]
  },
  {
   "cell_type": "code",
   "execution_count": 3,
   "id": "c34bc948",
   "metadata": {},
   "outputs": [],
   "source": [
    "files = g('np_outputs/points*npy')\n",
    "len(files)\n",
    "\n",
    "list_lane0 = []\n",
    "list_lane1 = []\n",
    "list_lane2 = []\n",
    "list_lane3 = []\n",
    "for file in files:\n",
    "    arr = np.load(file, allow_pickle = True)\n",
    "\n",
    "    lane1 = np.array(arr[1])\n",
    "    lane2 = np.array(arr[2])\n",
    "    lane0 = np.array(arr[0])\n",
    "    lane3 = np.array(arr[3])\n",
    "    arr = np.load(file, allow_pickle = True)\n",
    "    \n",
    "    list_lane0.append(lane0)\n",
    "    list_lane1.append(lane1)\n",
    "    list_lane2.append(lane2)\n",
    "    list_lane3.append(lane3)"
   ]
  },
  {
   "cell_type": "code",
   "execution_count": 6,
   "id": "9bed9b1e",
   "metadata": {},
   "outputs": [],
   "source": [
    "# Line 1\n",
    "import matplotlib.pyplot as plt\n",
    "%matplotlib qt\n",
    "# generate axes object\n",
    "ax = plt.axes()\n",
    "\n",
    "plt.xlim(0,1000) \n",
    "plt.ylim(0,1000)\n",
    "cnt = 0\n",
    "for idx , (line1,line2)  in enumerate(zip( list_lane1, list_lane2)):        \n",
    "    \n",
    "    \n",
    "    if cnt == 0:\n",
    "        p = np.polyfit(line1[:,0], line1[:,1], 3)\n",
    "        (x_min, y_min), (x_max, y_max) = line1.min(0), line1.max(0)\n",
    "        npred_line = np.polyval(p, np.linspace(x_min, x_max, 10))\n",
    "        pred_line = npred_line\n",
    "    else :\n",
    "        c = max(0.05, 1 / cnt)\n",
    "        (nx_min, ny_min), (nx_max, ny_max) = line1.min(0), line1.max(0)\n",
    "        x_min = int(nx_min *  c + (1 - c) * x_min )\n",
    "        y_min = int(ny_min *  c + (1 - c) * y_min )\n",
    "        x_max = int(nx_max *  c + (1 - c) * x_max )\n",
    "        y_max = int(ny_max *  c + (1 - c) * y_max )\n",
    "        \n",
    "        c = max(0.05, 1 / cnt)\n",
    "        npred_line = np.polyval(p, np.linspace(x_min, x_max, 10))\n",
    "        pred_line = npred_line *  c + (1 - c) * pred_line \n",
    "    \n",
    "\n",
    "    cnt += 1\n",
    "    \n",
    "    \n",
    "    plt.gca().invert_yaxis()\n",
    "    plt.plot(line1[:,0], line1[:,1], label = \"actual\")\n",
    "    plt.plot(np.linspace(x_min, x_max, 10), pred_line, label = \"mv\")\n",
    "    plt.pause(0.003) #is necessary for the plot to update for some reason\n",
    "    \n",
    "    if idx>2:\n",
    "        plt.clf()"
   ]
  },
  {
   "cell_type": "code",
   "execution_count": null,
   "id": "cce7ae4f",
   "metadata": {},
   "outputs": [],
   "source": []
  }
 ],
 "metadata": {
  "kernelspec": {
   "display_name": "Python 3 (ipykernel)",
   "language": "python",
   "name": "python3"
  },
  "language_info": {
   "codemirror_mode": {
    "name": "ipython",
    "version": 3
   },
   "file_extension": ".py",
   "mimetype": "text/x-python",
   "name": "python",
   "nbconvert_exporter": "python",
   "pygments_lexer": "ipython3",
   "version": "3.9.12"
  }
 },
 "nbformat": 4,
 "nbformat_minor": 5
}
